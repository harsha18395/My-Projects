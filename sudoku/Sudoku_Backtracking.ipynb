{
 "cells": [
  {
   "cell_type": "code",
   "execution_count": 52,
   "metadata": {},
   "outputs": [],
   "source": [
    "board = [[0,1,2,0,0,0,0,0,8],\n",
    "        [0,6,0,4,0,0,0,0,0],\n",
    "        [7,0,4,0,0,6,0,2,0],\n",
    "        [5,0,0,6,0,0,0,0,0],\n",
    "        [0,0,0,0,0,0,8,0,0],\n",
    "        [0,0,0,0,0,3,9,0,0],\n",
    "        [0,0,0,5,0,7,0,0,0],\n",
    "        [0,8,0,0,0,0,3,0,1],\n",
    "        [0,0,1,0,0,0,2,0,6]]"
   ]
  },
  {
   "cell_type": "code",
   "execution_count": 53,
   "metadata": {},
   "outputs": [],
   "source": [
    "def printBoard(bo):\n",
    "    for i in range(len(bo)):\n",
    "        if i%3==0 and i!=0:\n",
    "            print('- '*11)\n",
    "        for j in range(len(bo[0])):\n",
    "            if j%3==0 and j!=0:\n",
    "                print('| ',end = '')\n",
    "            if j== 8:\n",
    "                print(str(bo[i][j])+' ')\n",
    "            else:    \n",
    "                print(str(bo[i][j])+' ',end='')        "
   ]
  },
  {
   "cell_type": "code",
   "execution_count": 54,
   "metadata": {},
   "outputs": [],
   "source": [
    "def getNulls(bo):\n",
    "    Nulls=[]\n",
    "    for i in range(len(bo)):\n",
    "        for j in range(len(bo[0])):\n",
    "            if bo[i][j]==0:\n",
    "                Nulls.append((i,j))\n",
    "    return Nulls        "
   ]
  },
  {
   "cell_type": "code",
   "execution_count": 55,
   "metadata": {},
   "outputs": [],
   "source": [
    "def isValid(bo,pos,num):\n",
    "    row = pos[0]\n",
    "    col = pos[1]\n",
    "    #row\n",
    "    for j in range(len(bo)):\n",
    "        if j == col:\n",
    "            continue\n",
    "        if bo[row][j]== num:\n",
    "            return False\n",
    "    #col\n",
    "    for i in range(len(bo[0])):\n",
    "        if i == row:\n",
    "            continue\n",
    "        if bo[i][col]== num:\n",
    "            return False\n",
    "    #box\n",
    "    for i in range(row-(row%3),row-(row%3)+3):\n",
    "        for j in range(col-(col%3),col-(col%3)+3):\n",
    "            if i == row and j==col:\n",
    "                continue\n",
    "            if bo[i][j]== num:\n",
    "                return False\n",
    "    return True        "
   ]
  },
  {
   "cell_type": "code",
   "execution_count": 56,
   "metadata": {},
   "outputs": [],
   "source": [
    "def solve(bo):\n",
    "    Nulls = getNulls(bo)\n",
    "    i=0\n",
    "    lenNull = len(Nulls)\n",
    "    isEnd =False\n",
    "    while isEnd ==False:\n",
    "        if i==-1:\n",
    "            break\n",
    "        if i == len(Nulls)-1:\n",
    "            isEnd = True    \n",
    "        pos = Nulls[i]\n",
    "        row = pos[0]\n",
    "        col = pos[1]\n",
    "        start = bo[row][col]\n",
    "        #print(pos)\n",
    "        if start == 9:\n",
    "            bo[row][col] = 0\n",
    "            i = i-1\n",
    "            continue\n",
    "        for j in range(start+1,10):\n",
    "            if isValid(bo,pos,j)==True:\n",
    "                bo[row][col]=j\n",
    "                #print('yes'+' '+str(j))\n",
    "                i += 1\n",
    "                #printBoard(bo)\n",
    "                break\n",
    "            else:\n",
    "                if j==9:\n",
    "                    i -= 1\n",
    "                    bo[row][col] = 0\n",
    "                    #print('back')\n",
    "    printBoard(bo)\n",
    "                           \n",
    "           "
   ]
  },
  {
   "cell_type": "code",
   "execution_count": 57,
   "metadata": {},
   "outputs": [
    {
     "name": "stdout",
     "output_type": "stream",
     "text": [
      "3 1 2 | 9 7 5 | 6 4 8 \n",
      "8 6 5 | 4 3 2 | 1 9 7 \n",
      "7 9 4 | 1 8 6 | 5 2 3 \n",
      "- - - - - - - - - - - \n",
      "5 4 8 | 6 9 1 | 7 3 2 \n",
      "1 3 9 | 7 2 4 | 8 6 5 \n",
      "2 7 6 | 8 5 3 | 9 1 4 \n",
      "- - - - - - - - - - - \n",
      "6 2 3 | 5 1 7 | 4 8 9 \n",
      "4 8 7 | 2 6 9 | 3 5 1 \n",
      "9 5 1 | 3 4 8 | 2 7 6 \n"
     ]
    }
   ],
   "source": [
    "solve(board)"
   ]
  },
  {
   "cell_type": "code",
   "execution_count": null,
   "metadata": {},
   "outputs": [],
   "source": []
  }
 ],
 "metadata": {
  "kernelspec": {
   "display_name": "Python 3",
   "language": "python",
   "name": "python3"
  },
  "language_info": {
   "codemirror_mode": {
    "name": "ipython",
    "version": 3
   },
   "file_extension": ".py",
   "mimetype": "text/x-python",
   "name": "python",
   "nbconvert_exporter": "python",
   "pygments_lexer": "ipython3",
   "version": "3.7.3"
  }
 },
 "nbformat": 4,
 "nbformat_minor": 2
}
